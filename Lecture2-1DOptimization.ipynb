{
 "cells": [
  {
   "cell_type": "code",
   "execution_count": 2,
   "metadata": {
    "collapsed": false
   },
   "outputs": [],
   "source": [
    "using AA222"
   ]
  },
  {
   "cell_type": "markdown",
   "metadata": {},
   "source": [
    "# Bracketing"
   ]
  },
  {
   "cell_type": "code",
   "execution_count": 3,
   "metadata": {
    "collapsed": false
   },
   "outputs": [
    {
     "data": {
      "text/plain": [
       "bracketMinimum (generic function with 4 methods)"
      ]
     },
     "execution_count": 3,
     "metadata": {},
     "output_type": "execute_result"
    }
   ],
   "source": [
    "function bracketMinimum(f, x0 = 0, step = 1e-2, expansion = 2.0)\n",
    "    x1 = x0\n",
    "    f1 = f(x1)\n",
    "    x2 = x1 + step\n",
    "    f2 = f(x2)\n",
    "    if f2 > f1\n",
    "        (x1, x2) = (x2, x1)\n",
    "        (f1, f2) = (f2, f1)\n",
    "        step = -step;\n",
    "    end\n",
    "    while x1 < 1e30\n",
    "        step = step * expansion\n",
    "        x4 = x2 + step\n",
    "        f4 = f(x4)\n",
    "        if f4 > f2\n",
    "            return x1 < x4 ? (x1, x4) : (x4, x1)\n",
    "        end\n",
    "        (x1, f1, x2, f2) = (x2, f2, x4, f4)\n",
    "    end\n",
    "end    "
   ]
  },
  {
   "cell_type": "code",
   "execution_count": 4,
   "metadata": {
    "collapsed": false
   },
   "outputs": [
    {
     "data": {
      "text/plain": [
       "(-0.02,0.01)"
      ]
     },
     "execution_count": 4,
     "metadata": {},
     "output_type": "execute_result"
    }
   ],
   "source": [
    "bracketMinimum(x->x^2)"
   ]
  },
  {
   "cell_type": "markdown",
   "metadata": {},
   "source": [
    "# Fibonacci search"
   ]
  },
  {
   "cell_type": "markdown",
   "metadata": {},
   "source": [
    "Binet's formula\n",
    "$$F_i = \\frac1{\\sqrt{5}}\\left[\\left(\\frac{1+\\sqrt{5}}{2}\\right)^{i+1} - \\left(\\frac{1+\\sqrt{5}}{2}\\right)^{i+1}\\right]$$"
   ]
  },
  {
   "cell_type": "code",
   "execution_count": 5,
   "metadata": {
    "collapsed": false
   },
   "outputs": [
    {
     "data": {
      "text/plain": [
       "fibonacciNumber (generic function with 1 method)"
      ]
     },
     "execution_count": 5,
     "metadata": {},
     "output_type": "execute_result"
    }
   ],
   "source": [
    "fibonacciNumber(i) = (((1+√5)/2)^(i+1) - ((1-√5)/2)^(i+1))/√5"
   ]
  },
  {
   "cell_type": "code",
   "execution_count": 6,
   "metadata": {
    "collapsed": false
   },
   "outputs": [
    {
     "data": {
      "text/plain": [
       "8.000000000000002"
      ]
     },
     "execution_count": 6,
     "metadata": {},
     "output_type": "execute_result"
    }
   ],
   "source": [
    "fibonacciNumber(5)"
   ]
  },
  {
   "cell_type": "markdown",
   "metadata": {},
   "source": [
    "Ratio between two consecutive Fibonacci numbers:\n",
    "$$\\frac{F_{i-1}}{F_i} = c \\left(\\frac{1-s^i}{1-s^{i+1}} \\right)$$\n",
    "where\n",
    "$$c = \\frac{\\sqrt{5} - 1}{2}$$\n",
    "$$s = \\frac{1 - \\sqrt 5}{1+ \\sqrt 5}$$"
   ]
  },
  {
   "cell_type": "code",
   "execution_count": 7,
   "metadata": {
    "collapsed": false
   },
   "outputs": [
    {
     "data": {
      "text/plain": [
       "fibonacciSearch (generic function with 1 method)"
      ]
     },
     "execution_count": 7,
     "metadata": {},
     "output_type": "execute_result"
    }
   ],
   "source": [
    "function fibonacciSearch(f, x1, x4, n)\n",
    "    c = (sqrt(5) - 1) / 2\n",
    "    s = (1 - sqrt(5)) / (1 + sqrt(5))\n",
    "    al = c * (1 - s^n) / (1 - s^(n + 1))\n",
    "    x3 = al * x4 + (1 - al) * x1\n",
    "    f3 = f(x3)\n",
    "    for i = 1 : n - 1\n",
    "        if i == n - 1\n",
    "            x2 = .01 * x1 + .99 * x3\n",
    "        else\n",
    "            x2 = al * x1 + (1 - al) * x4\n",
    "        end\n",
    "        f2 = f(x2)\n",
    "        if f2 < f3\n",
    "            x4 = x3\n",
    "            x3 = x2\n",
    "            f3 = f2\n",
    "        else\n",
    "            x1 = x4\n",
    "            x4 = x2\n",
    "            f4 = f2\n",
    "        end\n",
    "        al = c * (1 - s^(n - i)) / (1 - s^(n - i + 1))\n",
    "    end\n",
    "    return x1 < x4 ? (x1, x4) : (x4, x1)\n",
    "end"
   ]
  },
  {
   "cell_type": "code",
   "execution_count": 8,
   "metadata": {
    "collapsed": false
   },
   "outputs": [
    {
     "data": {
      "text/plain": [
       "(-0.0024999999999999727,0.25)"
      ]
     },
     "execution_count": 8,
     "metadata": {},
     "output_type": "execute_result"
    }
   ],
   "source": [
    "steps = 5\n",
    "fibonacciSearch(x->x^2, -1, 1, steps)"
   ]
  },
  {
   "cell_type": "code",
   "execution_count": 9,
   "metadata": {
    "collapsed": false
   },
   "outputs": [],
   "source": [
    "function fibonacciSearchWithHistory(f, x1, x4, n)\n",
    "    c = (sqrt(5) - 1) / 2\n",
    "    s = (1 - sqrt(5)) / (1 + sqrt(5))\n",
    "    al = c * (1 - s^n) / (1 - s^(n + 1))\n",
    "    x3 = al * x4 + (1 - al) * x1\n",
    "    f3 = f(x3)\n",
    "    X1 = zeros(n)\n",
    "    X4 = zeros(n)\n",
    "    X1[1], X4[1] = x1, x4\n",
    "    for i = 1 : n - 1\n",
    "        if i == n - 1\n",
    "            x2 = .01 * x1 + .99 * x3\n",
    "        else\n",
    "            x2 = al * x1 + (1 - al) * x4\n",
    "        end\n",
    "        f2 = f(x2)\n",
    "        if f2 < f3\n",
    "            x4 = x3\n",
    "            x3 = x2\n",
    "            f3 = f2\n",
    "        else\n",
    "            x1 = x4\n",
    "            x4 = x2\n",
    "            f4 = f2\n",
    "        end\n",
    "        al = c * (1 - s^(n - i)) / (1 - s^(n - i + 1))\n",
    "        X1[i+1], X4[i+1] = x1, x4\n",
    "    end\n",
    "    return X1, X4\n",
    "end;"
   ]
  },
  {
   "cell_type": "code",
   "execution_count": 10,
   "metadata": {
    "collapsed": false
   },
   "outputs": [],
   "source": [
    "function plotFibonacciSearch(f, lo, hi, steps)\n",
    "    xdom(lo, hi)\n",
    "    xlim(lo, hi)\n",
    "    subplot(211)\n",
    "    hold(\"off\")\n",
    "    plot(f, lo, hi)\n",
    "    subplot(212)\n",
    "    hold(\"off\")\n",
    "    LO, HI = fibonacciSearchWithHistory(f, lo, hi, steps)\n",
    "    for i = 1:steps\n",
    "        plot([LO[i], HI[i]], [i, i])\n",
    "    end\n",
    "    xlim(lo, hi)\n",
    "    ylim(0, steps + 1)\n",
    "end;"
   ]
  },
  {
   "cell_type": "code",
   "execution_count": 11,
   "metadata": {
    "collapsed": false
   },
   "outputs": [
    {
     "data": {
      "image/png": "[encoded data removed]",
      "text/plain": [
       "Figure(PyObject <matplotlib.figure.Figure object at 0x00000000210FD8D0>)"
      ]
     },
     "metadata": {},
     "output_type": "display_data"
    },
    {
     "data": {
      "text/plain": [
       "(0,6)"
      ]
     },
     "execution_count": 11,
     "metadata": {},
     "output_type": "execute_result"
    }
   ],
   "source": [
    "plotFibonacciSearch(x->x^2, -1, 1, 5)"
   ]
  },
  {
   "cell_type": "code",
   "execution_count": 14,
   "metadata": {
    "collapsed": false
   },
   "outputs": [
    {
     "data": {
      "image/png": "[encoded data removed]",
      "text/plain": [
       "Figure(PyObject <matplotlib.figure.Figure object at 0x0000000028B11A58>)"
      ]
     },
     "metadata": {},
     "output_type": "display_data"
    },
    {
     "data": {
      "text/plain": [
       "(0,6)"
      ]
     },
     "execution_count": 14,
     "metadata": {},
     "output_type": "execute_result"
    }
   ],
   "source": [
    "plotFibonacciSearch(x->sin(x)*x^2, 1, 10, 5); # why is the minimum not found?"
   ]
  },
  {
   "cell_type": "markdown",
   "metadata": {},
   "source": [
    "# Golden Section Algorithm Search"
   ]
  },
  {
   "cell_type": "code",
   "execution_count": 15,
   "metadata": {
    "collapsed": false
   },
   "outputs": [
    {
     "data": {
      "image/png": "[encoded data removed]",
      "text/plain": [
       "Figure(PyObject <matplotlib.figure.Figure object at 0x000000002924EE48>)"
      ]
     },
     "metadata": {},
     "output_type": "display_data"
    }
   ],
   "source": [
    "c = (√5 - 1) / 2\n",
    "s = (1 - √5) / (1 + √5)\n",
    "f(n) = c * (1 - s^n) / (1 - s^(n + 1))\n",
    "scatter(f, 1:10);"
   ]
  },
  {
   "cell_type": "code",
   "execution_count": 16,
   "metadata": {
    "collapsed": false
   },
   "outputs": [
    {
     "data": {
      "text/plain": [
       "goldenSectionSearch (generic function with 1 method)"
      ]
     },
     "execution_count": 16,
     "metadata": {},
     "output_type": "execute_result"
    }
   ],
   "source": [
    "function goldenSectionSearch(f, x1, x4, n)\n",
    "    al = (sqrt(5) - 1) / 2\n",
    "    x3 = al * x4 + (1 - al) * x1\n",
    "    f3 = f(x3)\n",
    "    for i = 1 : n - 1\n",
    "        x2 = al * x1 + (1 - al) * x4\n",
    "        f2 = f(x2)\n",
    "        if f2 < f3\n",
    "            x4 = x3\n",
    "            x3 = x2\n",
    "            f3 = f2\n",
    "        else\n",
    "            x1 = x4\n",
    "            x4 = x2\n",
    "            f4 = f2\n",
    "        end\n",
    "    end\n",
    "    return x1 < x4 ? (x1, x4) : (x4, x1)\n",
    "end"
   ]
  },
  {
   "cell_type": "code",
   "execution_count": 17,
   "metadata": {
    "collapsed": false
   },
   "outputs": [
    {
     "data": {
      "text/plain": [
       "(-0.2360679774997898,0.5278640450004206)"
      ]
     },
     "execution_count": 17,
     "metadata": {},
     "output_type": "execute_result"
    }
   ],
   "source": [
    "goldenSectionSearch(x->x^2, -1, 1, 3)"
   ]
  },
  {
   "cell_type": "code",
   "execution_count": 18,
   "metadata": {
    "collapsed": false
   },
   "outputs": [
    {
     "data": {
      "text/plain": [
       "(-0.3333333333333335,0.34000000000000014)"
      ]
     },
     "execution_count": 18,
     "metadata": {},
     "output_type": "execute_result"
    }
   ],
   "source": [
    "fibonacciSearch(x->x^2, -1, 1, 3)"
   ]
  },
  {
   "cell_type": "markdown",
   "metadata": {},
   "source": [
    "# Bisection Method"
   ]
  },
  {
   "cell_type": "code",
   "execution_count": 19,
   "metadata": {
    "collapsed": false
   },
   "outputs": [
    {
     "data": {
      "text/plain": [
       "bisectionMethod (generic function with 1 method)"
      ]
     },
     "execution_count": 19,
     "metadata": {},
     "output_type": "execute_result"
    }
   ],
   "source": [
    "function bisectionMethod(f, lo, hi, n)\n",
    "    flo = f(lo)\n",
    "    fhi = f(hi)\n",
    "    assert(sign(flo) != sign(fhi))\n",
    "    for i = 1:n\n",
    "        x = (lo + hi) / 2\n",
    "        fx = f(x)\n",
    "        if fx == 0\n",
    "            return (x, x)\n",
    "        end\n",
    "        if sign(fx) != sign(flo)\n",
    "            # new interval is [lo, x]\n",
    "            hi, fhi = x, fx\n",
    "        else\n",
    "            # new interval is [x, hi]\n",
    "            lo, flo = x, fx\n",
    "        end\n",
    "    end\n",
    "    return (lo, hi)\n",
    "end"
   ]
  },
  {
   "cell_type": "code",
   "execution_count": 20,
   "metadata": {
    "collapsed": false
   },
   "outputs": [
    {
     "data": {
      "text/plain": [
       "(-0.10000001639127731,-0.09999999776482582)"
      ]
     },
     "execution_count": 20,
     "metadata": {},
     "output_type": "execute_result"
    }
   ],
   "source": [
    "bisectionMethod(x -> (x + 0.1)^3, -10, 10, 30)"
   ]
  }
 ],
 "metadata": {
  "kernelspec": {
   "display_name": "Julia 0.3.7",
   "language": "julia",
   "name": "julia 0.3"
  },
  "language_info": {
   "name": "julia",
   "version": "0.3.7"
  }
 },
 "nbformat": 4,
 "nbformat_minor": 0
}
