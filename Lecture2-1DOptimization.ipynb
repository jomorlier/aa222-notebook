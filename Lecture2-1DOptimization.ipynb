{
 "metadata": {
  "language": "Julia",
  "name": "",
  "signature": "sha256:be356992393adc230d904b7d2f9c61c8299c7641c3b9a48cbd32d21cef0ebc7c"
 },
 "nbformat": 3,
 "nbformat_minor": 0,
 "worksheets": [
  {
   "cells": [
    {
     "cell_type": "code",
     "collapsed": false,
     "input": [
      "using AA222\n",
      "using Interact"
     ],
     "language": "python",
     "metadata": {},
     "outputs": [
      {
       "output_type": "stream",
       "stream": "stderr",
       "text": [
        "INFO: Loading help data...\n"
       ]
      },
      {
       "html": [
        "<script charset=\"utf-8\">(function ($, undefined) {\n",
        "\n",
        "    function createElem(tag, attr, content) {\n",
        "\t// TODO: remove jQuery dependency\n",
        "\tvar el = $(\"<\" + tag + \"/>\").attr(attr);\n",
        "\tif (content) {\n",
        "\t    el.append(content);\n",
        "\t}\n",
        "\treturn el[0];\n",
        "    }\n",
        "\n",
        "    // A widget must expose an id field which identifies it to the backend,\n",
        "    // an elem attribute which is will be added to the DOM, and\n",
        "    // a getState() method which returns the value to be sent to the backend\n",
        "    // a sendUpdate() method which sends its current value to the backend\n",
        "    var Widget = {\n",
        "\tid: undefined,\n",
        "\telem: undefined,\n",
        "\tlabel: undefined,\n",
        "\tgetState: function () {\n",
        "\t    return this.elem.value;\n",
        "\t},\n",
        "\tsendUpdate: undefined\n",
        "    };\n",
        "\n",
        "    var Slider = function (typ, id, init) {\n",
        "\tvar attr = { type:  \"range\",\n",
        "\t\t     value: init.value,\n",
        "\t\t     min:   init.min,\n",
        "\t\t     max:   init.max,\n",
        "\t\t     step:  init.step },\n",
        "\t    elem = createElem(\"input\", attr),\n",
        "\t    self = this;\n",
        "\n",
        "\telem.onchange = function () {\n",
        "\t    self.sendUpdate();\n",
        "\t}\n",
        "\n",
        "\tthis.id = id;\n",
        "\tthis.elem = elem;\n",
        "\tthis.label = init.label;\n",
        "\n",
        "\tInputWidgets.commInitializer(this); // Initialize communication\n",
        "    }\n",
        "    Slider.prototype = Widget;\n",
        "\n",
        "    var Checkbox = function (typ, id, init) {\n",
        "\tvar attr = { type: \"checkbox\",\n",
        "\t\t     checked: init.value },\n",
        "\t    elem = createElem(\"input\", attr),\n",
        "\t    self = this;\n",
        "\n",
        "\tthis.getState = function () {\n",
        "\t    return elem.checked;\n",
        "\t}\n",
        "\telem.onchange = function () {\n",
        "\t    self.sendUpdate();\n",
        "\t}\n",
        "\n",
        "\tthis.id = id;\n",
        "\tthis.elem = elem;\n",
        "\tthis.label = init.label;\n",
        "\n",
        "\tInputWidgets.commInitializer(this);\n",
        "    }\n",
        "    Checkbox.prototype = Widget;\n",
        "\n",
        "    var Button = function (typ, id, init) {\n",
        "\tvar attr = { type:    \"button\",\n",
        "\t\t     value:   init.label },\n",
        "\t    elem = createElem(\"input\", attr),\n",
        "\t    self = this;\n",
        "\tthis.getState = function () {\n",
        "\t    return null;\n",
        "\t}\n",
        "\telem.onclick = function () {\n",
        "\t    self.sendUpdate();\n",
        "\t}\n",
        "\n",
        "\tthis.id = id;\n",
        "\tthis.elem = elem;\n",
        "\tthis.label = init.label;\n",
        "\n",
        "\tInputWidgets.commInitializer(this);\n",
        "    }\n",
        "    Button.prototype = Widget;\n",
        "\n",
        "    var Text = function (typ, id, init) {\n",
        "\tvar attr = { type:  \"text\",\n",
        "\t\t     placeholder: init.label,\n",
        "\t\t     value: init.value },\n",
        "\t    elem = createElem(\"input\", attr),\n",
        "\t    self = this;\n",
        "\tthis.getState = function () {\n",
        "\t    return elem.value;\n",
        "\t}\n",
        "\telem.onkeyup = function () {\n",
        "\t    self.sendUpdate();\n",
        "\t}\n",
        "\n",
        "\tthis.id = id;\n",
        "\tthis.elem = elem;\n",
        "\tthis.label = init.label;\n",
        "\n",
        "\tInputWidgets.commInitializer(this);\n",
        "    }\n",
        "    Text.prototype = Widget;\n",
        "\n",
        "    var Textarea = function (typ, id, init) {\n",
        "\tvar attr = { placeholder: init.label },\n",
        "\t    elem = createElem(\"textarea\", attr, init.value),\n",
        "\t    self = this;\n",
        "\tthis.getState = function () {\n",
        "\t    return elem.value;\n",
        "\t}\n",
        "\telem.onchange = function () {\n",
        "\t    self.sendUpdate();\n",
        "\t}\n",
        "\n",
        "\tthis.id = id;\n",
        "\tthis.elem = elem;\n",
        "\tthis.label = init.label;\n",
        "\n",
        "\tInputWidgets.commInitializer(this);\n",
        "    }\n",
        "    Textarea.prototype = Widget;\n",
        "\n",
        "    // RadioButtons\n",
        "    // Dropdown\n",
        "    // HTML\n",
        "    // Latex\n",
        "\n",
        "    var InputWidgets = {\n",
        "\tSlider: Slider,\n",
        "\tCheckbox: Checkbox,\n",
        "\tButton: Button,\n",
        "\tText: Text,\n",
        "\tTextarea: Textarea,\n",
        "\tdebug: false,\n",
        "\tlog: function () {\n",
        "\t    if (InputWidgets.debug) {\n",
        "\t\tconsole.log.apply(console, arguments);\n",
        "\t    }\n",
        "\t},\n",
        "\t// a central way to initalize communication\n",
        "\t// for widgets.\n",
        "\tcommInitializer: function (widget) {\n",
        "\t    widget.sendUpdate = function () {};\n",
        "\t}\n",
        "    };\n",
        "\n",
        "    window.InputWidgets = InputWidgets;\n",
        "\n",
        "})(jQuery, undefined);\n",
        "</script>"
       ],
       "metadata": {},
       "output_type": "display_data"
      },
      {
       "html": [
        "<script charset=\"utf-8\">(function (IPython, $, _, MathJax, Widgets) {\n",
        "    $.event.special.destroyed = {\n",
        "\tremove: function(o) {\n",
        "\t    if (o.handler) {\n",
        "\t\to.handler.apply(this, arguments)\n",
        "\t    }\n",
        "\t}\n",
        "    }\n",
        "\n",
        "    var redrawValue = function (container, type, val) {\n",
        "\tvar selector = $(\"<div/>\");\n",
        "\tvar oa = new IPython.OutputArea(_.extend(selector, {\n",
        "\t    selector: selector,\n",
        "\t    prompt_area: true,\n",
        "\t    events: IPython.events,\n",
        "\t    keyboard_manager: IPython.keyboard_manager\n",
        "\t})); // Hack to work with IPython 2.1.0\n",
        "\n",
        "\tswitch (type) {\n",
        "\tcase \"image/png\":\n",
        "            var _src = 'data:' + type + ';base64,' + val;\n",
        "\t    $(container).find(\"img\").attr('src', _src);\n",
        "\t    break;\n",
        "\tdefault:\n",
        "\t    var toinsert = IPython.OutputArea.append_map[type].apply(\n",
        "\t\toa, [val, {}, selector]\n",
        "\t    );\n",
        "\t    $(container).empty().append(toinsert.contents());\n",
        "\t    selector.remove();\n",
        "\t}\n",
        "\tif (type === \"text/latex\" && MathJax) {\n",
        "\t    MathJax.Hub.Queue([\"Typeset\", MathJax.Hub, toinsert.get(0)]);\n",
        "\t}\n",
        "    }\n",
        "\n",
        "\n",
        "    $(document).ready(function() {\n",
        "\tWidgets.debug = false; // log messages etc in console.\n",
        "\tfunction initComm(evt, data) {\n",
        "\t    var comm_manager = data.kernel.comm_manager;\n",
        "\t    comm_manager.register_target(\"Signal\", function (comm) {\n",
        "\t\tcomm.on_msg(function (msg) {\n",
        "\t\t    //Widgets.log(\"message received\", msg);\n",
        "\t\t    var val = msg.content.data.value;\n",
        "\t\t    $(\".signal-\" + comm.comm_id).each(function() {\n",
        "\t\t\tvar type = $(this).data(\"type\");\n",
        "\t\t\tif (val[type]) {\n",
        "\t\t\t    redrawValue(this, type, val[type], type);\n",
        "\t\t\t}\n",
        "\t\t    });\n",
        "\t\t    delete val;\n",
        "\t\t    delete msg.content.data.value;\n",
        "\t\t});\n",
        "\t    });\n",
        "\n",
        "\t    // coordingate with Comm and redraw Signals\n",
        "\t    // XXX: Test using Reactive here to improve performance\n",
        "\t    $([IPython.events]).on(\n",
        "\t\t'output_appended.OutputArea', function (event, type, value, md, toinsert) {\n",
        "\t\t    if (md && md.reactive) {\n",
        "\t\t\t// console.log(md.comm_id);\n",
        "\t\t\ttoinsert.addClass(\"signal-\" + md.comm_id);\n",
        "\t\t\ttoinsert.data(\"type\", type);\n",
        "\t\t\t// Signal back indicating the mimetype required\n",
        "\t\t\tvar comm_manager = IPython.notebook.kernel.comm_manager;\n",
        "\t\t\tvar comm = comm_manager.comms[md.comm_id];\n",
        "\t\t\tcomm.send({action: \"subscribe_mime\",\n",
        "\t\t\t\t   mime: type});\n",
        "\t\t\ttoinsert.bind(\"destroyed\", function() {\n",
        "\t\t\t    comm.send({action: \"unsubscribe_mime\",\n",
        "\t\t\t\t       mime: type});\n",
        "\t\t\t});\n",
        "\t\t    }\n",
        "\t    });\n",
        "\n",
        "\t    // Set up communication for Widgets\n",
        "\t    Widgets.commInitializer = function (widget) {\n",
        "\t\tvar comm = comm_manager.new_comm(\n",
        "\t\t    \"InputWidget\", {widget_id: widget.id}\n",
        "\t\t);\n",
        "\t\twidget.sendUpdate = function () {\n",
        "\t\t    // `this` is a widget here.\n",
        "\t\t    // TODO: I have a feeling there's some\n",
        "\t\t    //       IPython bookkeeping to be done here.\n",
        "\t\t    // Widgets.log(\"State changed\", this, this.getState());\n",
        "\t\t    comm.send({value: this.getState()});\n",
        "\t\t}\n",
        "\t    };\n",
        "\t}\n",
        "\n",
        "\ttry {\n",
        "\t    // try to initialize right away. otherwise, wait on the status_started event.\n",
        "\t    initComm(undefined, IPython.notebook);\n",
        "\t} catch (e) {\n",
        "\t    $([IPython.events]).on('status_started.Kernel', initComm);\n",
        "\t}\n",
        "    });\n",
        "})(IPython, jQuery, _, MathJax, InputWidgets);\n",
        "</script>"
       ],
       "metadata": {},
       "output_type": "display_data"
      }
     ],
     "prompt_number": 1
    },
    {
     "cell_type": "heading",
     "level": 1,
     "metadata": {},
     "source": [
      "Bracketing"
     ]
    },
    {
     "cell_type": "code",
     "collapsed": false,
     "input": [
      "function bracketMinimum(f, x0 = 0, step = 1e-2, expansion = 2.0)\n",
      "    x1 = x0\n",
      "    f1 = f(x1)\n",
      "    x2 = x1 + step\n",
      "    f2 = f(x2)\n",
      "    if f2 > f1\n",
      "        (x1, x2) = (x2, x1)\n",
      "        (f1, f2) = (f2, f1)\n",
      "        step = -step;\n",
      "    end\n",
      "    while x1 < 1e30\n",
      "        step = step * expansion\n",
      "        x4 = x2 + step\n",
      "        f4 = f(x4)\n",
      "        if f4 > f2\n",
      "            return x1 < x4 ? (x1, x4) : (x4, x1)\n",
      "        end\n",
      "        (x1, f1, x2, f2) = (x2, f2, x4, f4)\n",
      "    end\n",
      "end    "
     ],
     "language": "python",
     "metadata": {},
     "outputs": [
      {
       "metadata": {},
       "output_type": "pyout",
       "prompt_number": 2,
       "text": [
        "bracketMinimum (generic function with 4 methods)"
       ]
      }
     ],
     "prompt_number": 2
    },
    {
     "cell_type": "code",
     "collapsed": false,
     "input": [
      "bracketMinimum(x->x^2)"
     ],
     "language": "python",
     "metadata": {},
     "outputs": [
      {
       "metadata": {},
       "output_type": "pyout",
       "prompt_number": 3,
       "text": [
        "(-0.02,0.01)"
       ]
      }
     ],
     "prompt_number": 3
    },
    {
     "cell_type": "heading",
     "level": 1,
     "metadata": {},
     "source": [
      "Fibonacci search"
     ]
    },
    {
     "cell_type": "markdown",
     "metadata": {},
     "source": [
      "Binet's formula\n",
      "$$F_i = \\frac1{\\sqrt{5}}\\left[\\left(\\frac{1+\\sqrt{5}}{2}\\right)^{i+1} - \\left(\\frac{1+\\sqrt{5}}{2}\\right)^{i+1}\\right]$$"
     ]
    },
    {
     "cell_type": "code",
     "collapsed": false,
     "input": [
      "fibonacciNumber(i) = (((1+\u221a5)/2)^(i+1) - ((1-\u221a5)/2)^(i+1))/\u221a5"
     ],
     "language": "python",
     "metadata": {},
     "outputs": [
      {
       "metadata": {},
       "output_type": "pyout",
       "prompt_number": 4,
       "text": [
        "fibonacciNumber (generic function with 1 method)"
       ]
      }
     ],
     "prompt_number": 4
    },
    {
     "cell_type": "code",
     "collapsed": false,
     "input": [
      "fibonacciNumber(5)"
     ],
     "language": "python",
     "metadata": {},
     "outputs": [
      {
       "metadata": {},
       "output_type": "pyout",
       "prompt_number": 5,
       "text": [
        "8.000000000000002"
       ]
      }
     ],
     "prompt_number": 5
    },
    {
     "cell_type": "markdown",
     "metadata": {},
     "source": [
      "Ratio between two consecutive Fibonacci numbers:\n",
      "$$\\frac{F_{i-1}}{F_i} = c \\left(\\frac{1-s^i}{1-s^{i+1}} \\right)$$\n",
      "where\n",
      "$$c = \\frac{\\sqrt{5} - 1}{2}$$\n",
      "$$s = \\frac{1 - \\sqrt 5}{1+ \\sqrt 5}$$"
     ]
    },
    {
     "cell_type": "code",
     "collapsed": false,
     "input": [
      "function fibonacciSearch(f, x1, x4, n)\n",
      "    c = (sqrt(5) - 1) / 2\n",
      "    s = (1 - sqrt(5)) / (1 + sqrt(5))\n",
      "    al = c * (1 - s^n) / (1 - s^(n + 1))\n",
      "    x3 = al * x4 + (1 - al) * x1\n",
      "    f3 = f(x3)\n",
      "    for i = 1 : n - 1\n",
      "        if i == n - 1\n",
      "            x2 = .01 * x1 + .99 * x3\n",
      "        else\n",
      "            x2 = al * x1 + (1 - al) * x4\n",
      "        end\n",
      "        f2 = f(x2)\n",
      "        if f2 < f3\n",
      "            x4 = x3\n",
      "            x3 = x2\n",
      "            f3 = f2\n",
      "        else\n",
      "            x1 = x4\n",
      "            x4 = x2\n",
      "            f4 = f2\n",
      "        end\n",
      "        al = c * (1 - s^(n - i)) / (1 - s^(n - i + 1))\n",
      "    end\n",
      "    return x1 < x4 ? (x1, x4) : (x4, x1)\n",
      "end"
     ],
     "language": "python",
     "metadata": {},
     "outputs": [
      {
       "metadata": {},
       "output_type": "pyout",
       "prompt_number": 6,
       "text": [
        "fibonacciSearch (generic function with 1 method)"
       ]
      }
     ],
     "prompt_number": 6
    },
    {
     "cell_type": "code",
     "collapsed": false,
     "input": [
      "@manipulate for steps = 1:10\n",
      "    fibonacciSearch(x->x^2, -1, 1, steps)\n",
      "end"
     ],
     "language": "python",
     "metadata": {},
     "outputs": [
      {
       "html": [],
       "metadata": {},
       "output_type": "display_data",
       "text": [
        "Slider{Int64}([Input{Int64}] 5,\"steps\",5,1:10)"
       ]
      },
      {
       "metadata": {
        "comm_id": "a0b7db5b-d6d8-4285-997a-af1296f33f86",
        "reactive": true
       },
       "output_type": "pyout",
       "prompt_number": 7,
       "text": [
        "(-0.0024999999999999727,0.25)"
       ]
      }
     ],
     "prompt_number": 7
    },
    {
     "cell_type": "code",
     "collapsed": false,
     "input": [
      "function fibonacciSearchWithHistory(f, x1, x4, n)\n",
      "    c = (sqrt(5) - 1) / 2\n",
      "    s = (1 - sqrt(5)) / (1 + sqrt(5))\n",
      "    al = c * (1 - s^n) / (1 - s^(n + 1))\n",
      "    x3 = al * x4 + (1 - al) * x1\n",
      "    f3 = f(x3)\n",
      "    X1 = zeros(n)\n",
      "    X4 = zeros(n)\n",
      "    X1[1], X4[1] = x1, x4\n",
      "    for i = 1 : n - 1\n",
      "        if i == n - 1\n",
      "            x2 = .01 * x1 + .99 * x3\n",
      "        else\n",
      "            x2 = al * x1 + (1 - al) * x4\n",
      "        end\n",
      "        f2 = f(x2)\n",
      "        if f2 < f3\n",
      "            x4 = x3\n",
      "            x3 = x2\n",
      "            f3 = f2\n",
      "        else\n",
      "            x1 = x4\n",
      "            x4 = x2\n",
      "            f4 = f2\n",
      "        end\n",
      "        al = c * (1 - s^(n - i)) / (1 - s^(n - i + 1))\n",
      "        X1[i+1], X4[i+1] = x1, x4\n",
      "    end\n",
      "    return X1, X4\n",
      "end;"
     ],
     "language": "python",
     "metadata": {},
     "outputs": [],
     "prompt_number": 8
    },
    {
     "cell_type": "code",
     "collapsed": false,
     "input": [
      "function plotFibonacciSearch(f, lo, hi, steps)\n",
      "    xdom(lo, hi)\n",
      "    xlim(lo, hi)\n",
      "    subplot(211)\n",
      "    hold(\"off\")\n",
      "    plot(f, lo, hi)\n",
      "    subplot(212)\n",
      "    hold(\"off\")\n",
      "    LO, HI = fibonacciSearchWithHistory(f, lo, hi, steps)\n",
      "    for i = 1:steps\n",
      "        plot([LO[i], HI[i]], [i, i])\n",
      "    end\n",
      "    xlim(lo, hi)\n",
      "    ylim(0, steps + 1)\n",
      "end;\n",
      "function plotFibonacciSearch(f, lo, hi)\n",
      "    fig = figure()\n",
      "    @manipulate for steps = 1:10\n",
      "        withfig(fig) do\n",
      "            plotFibonacciSearch(x->x^2, -1, 1, steps)\n",
      "        end\n",
      "    end\n",
      "end"
     ],
     "language": "python",
     "metadata": {},
     "outputs": [
      {
       "metadata": {},
       "output_type": "pyout",
       "prompt_number": 9,
       "text": [
        "plotFibonacciSearch (generic function with 2 methods)"
       ]
      }
     ],
     "prompt_number": 9
    },
    {
     "cell_type": "code",
     "collapsed": false,
     "input": [
      "plotFibonacciSearch(x->x^2, -1, 1)"
     ],
     "language": "python",
     "metadata": {},
     "outputs": [
      {
       "html": [],
       "metadata": {},
       "output_type": "display_data",
       "text": [
        "Slider{Int64}([Input{Int64}] 5,\"steps\",5,1:10)"
       ]
      },
      {
       "metadata": {
        "comm_id": "5a18b392-1fa2-48f8-841a-1273a5be1f69",
        "reactive": true
       },
       "output_type": "pyout",
       "png": "[encoded data removed]",
       "prompt_number": 10,
       "text": [
        "Figure(PyObject <matplotlib.figure.Figure object at 0x00000000200DD278>)"
       ]
      }
     ],
     "prompt_number": 10
    },
    {
     "cell_type": "code",
     "collapsed": false,
     "input": [
      "plotFibonacciSearch(x->sin(x)*x^2, 1, 10); # why is the minimum not found?"
     ],
     "language": "python",
     "metadata": {},
     "outputs": [
      {
       "html": [],
       "metadata": {},
       "output_type": "display_data",
       "text": [
        "Slider{Int64}([Input{Int64}] 5,\"steps\",5,1:10)"
       ]
      },
      {
       "metadata": {
        "comm_id": "b5d339f4-7fe4-4b66-a1dc-fb8c717de4a6",
        "reactive": true
       },
       "output_type": "pyout",
       "png": "[encoded data removed]",
       "prompt_number": 11,
       "text": [
        "Figure(PyObject <matplotlib.figure.Figure object at 0x0000000028055780>)"
       ]
      }
     ],
     "prompt_number": 11
    },
    {
     "cell_type": "heading",
     "level": 1,
     "metadata": {},
     "source": [
      "Golden Section Algorithm Search"
     ]
    },
    {
     "cell_type": "code",
     "collapsed": false,
     "input": [
      "c = (\u221a5 - 1) / 2\n",
      "s = (1 - \u221a5) / (1 + \u221a5)\n",
      "f(n) = c * (1 - s^n) / (1 - s^(n + 1))\n",
      "scatter(f, 1:10);"
     ],
     "language": "python",
     "metadata": {},
     "outputs": [
      {
       "metadata": {},
       "output_type": "display_data",
       "png": "[encoded data removed]",
       "text": [
        "Figure(PyObject <matplotlib.figure.Figure object at 0x0000000027F9A390>)"
       ]
      }
     ],
     "prompt_number": 12
    },
    {
     "cell_type": "code",
     "collapsed": false,
     "input": [
      "function goldenSectionSearch(f, x1, x4, n)\n",
      "    al = (sqrt(5) - 1) / 2\n",
      "    x3 = al * x4 + (1 - al) * x1\n",
      "    f3 = f(x3)\n",
      "    for i = 1 : n - 1\n",
      "        x2 = al * x1 + (1 - al) * x4\n",
      "        f2 = f(x2)\n",
      "        if f2 < f3\n",
      "            x4 = x3\n",
      "            x3 = x2\n",
      "            f3 = f2\n",
      "        else\n",
      "            x1 = x4\n",
      "            x4 = x2\n",
      "            f4 = f2\n",
      "        end\n",
      "    end\n",
      "    return x1 < x4 ? (x1, x4) : (x4, x1)\n",
      "end"
     ],
     "language": "python",
     "metadata": {},
     "outputs": [
      {
       "metadata": {},
       "output_type": "pyout",
       "prompt_number": 13,
       "text": [
        "goldenSectionSearch (generic function with 1 method)"
       ]
      }
     ],
     "prompt_number": 13
    },
    {
     "cell_type": "code",
     "collapsed": false,
     "input": [
      "goldenSectionSearch(x->x^2, -1, 1, 3)"
     ],
     "language": "python",
     "metadata": {},
     "outputs": [
      {
       "metadata": {},
       "output_type": "pyout",
       "prompt_number": 14,
       "text": [
        "(-0.2360679774997898,0.5278640450004206)"
       ]
      }
     ],
     "prompt_number": 14
    },
    {
     "cell_type": "code",
     "collapsed": false,
     "input": [
      "fibonacciSearch(x->x^2, -1, 1, 3)"
     ],
     "language": "python",
     "metadata": {},
     "outputs": [
      {
       "metadata": {},
       "output_type": "pyout",
       "prompt_number": 15,
       "text": [
        "(-0.3333333333333335,0.34000000000000014)"
       ]
      }
     ],
     "prompt_number": 15
    },
    {
     "cell_type": "heading",
     "level": 1,
     "metadata": {},
     "source": [
      "Bisection Method"
     ]
    },
    {
     "cell_type": "code",
     "collapsed": false,
     "input": [
      "function bisectionMethod(f, lo, hi, n)\n",
      "    flo = f(lo)\n",
      "    fhi = f(hi)\n",
      "    assert(sign(flo) != sign(fhi))\n",
      "    for i = 1:n\n",
      "        x = (lo + hi) / 2\n",
      "        fx = f(x)\n",
      "        if fx == 0\n",
      "            return (x, x)\n",
      "        end\n",
      "        if sign(fx) != sign(flo)\n",
      "            # new interval is [lo, x]\n",
      "            hi, fhi = x, fx\n",
      "        else\n",
      "            # new interval is [x, hi]\n",
      "            lo, flo = x, fx\n",
      "        end\n",
      "    end\n",
      "    return (lo, hi)\n",
      "end"
     ],
     "language": "python",
     "metadata": {},
     "outputs": [
      {
       "metadata": {},
       "output_type": "pyout",
       "prompt_number": 16,
       "text": [
        "bisectionMethod (generic function with 1 method)"
       ]
      }
     ],
     "prompt_number": 16
    },
    {
     "cell_type": "code",
     "collapsed": false,
     "input": [
      "bisectionMethod(x -> (x + 0.1)^3, -10, 10, 30)"
     ],
     "language": "python",
     "metadata": {},
     "outputs": [
      {
       "metadata": {},
       "output_type": "pyout",
       "prompt_number": 17,
       "text": [
        "(-0.10000001639127731,-0.09999999776482582)"
       ]
      }
     ],
     "prompt_number": 17
    }
   ],
   "metadata": {}
  }
 ]
}